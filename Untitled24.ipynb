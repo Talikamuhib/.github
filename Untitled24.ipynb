{
  "nbformat": 4,
  "nbformat_minor": 0,
  "metadata": {
    "colab": {
      "provenance": [],
      "gpuType": "T4",
      "authorship_tag": "ABX9TyMhWsT0tPFNOKafV9s5FX94",
      "include_colab_link": true
    },
    "kernelspec": {
      "name": "python3",
      "display_name": "Python 3"
    },
    "language_info": {
      "name": "python"
    },
    "accelerator": "GPU"
  },
  "cells": [
    {
      "cell_type": "markdown",
      "metadata": {
        "id": "view-in-github",
        "colab_type": "text"
      },
      "source": [
        "<a href=\"https://colab.research.google.com/github/Talikamuhib/.github/blob/main/Untitled24.ipynb\" target=\"_parent\"><img src=\"https://colab.research.google.com/assets/colab-badge.svg\" alt=\"Open In Colab\"/></a>"
      ]
    },
    {
      "cell_type": "markdown",
      "source": [
        "## Installing dependencies"
      ],
      "metadata": {
        "id": "MguyGfTLdh5c"
      }
    },
    {
      "cell_type": "code",
      "source": [
        "!pip install mne"
      ],
      "metadata": {
        "colab": {
          "base_uri": "https://localhost:8080/"
        },
        "id": "zSnVDnysdg4s",
        "outputId": "5f29570b-0e5c-4721-8a44-01816afaee7a"
      },
      "execution_count": 1,
      "outputs": [
        {
          "output_type": "stream",
          "name": "stdout",
          "text": [
            "Collecting mne\n",
            "  Downloading mne-1.9.0-py3-none-any.whl.metadata (20 kB)\n",
            "Requirement already satisfied: decorator in /usr/local/lib/python3.11/dist-packages (from mne) (4.4.2)\n",
            "Requirement already satisfied: jinja2 in /usr/local/lib/python3.11/dist-packages (from mne) (3.1.6)\n",
            "Requirement already satisfied: lazy-loader>=0.3 in /usr/local/lib/python3.11/dist-packages (from mne) (0.4)\n",
            "Requirement already satisfied: matplotlib>=3.6 in /usr/local/lib/python3.11/dist-packages (from mne) (3.10.0)\n",
            "Requirement already satisfied: numpy<3,>=1.23 in /usr/local/lib/python3.11/dist-packages (from mne) (2.0.2)\n",
            "Requirement already satisfied: packaging in /usr/local/lib/python3.11/dist-packages (from mne) (24.2)\n",
            "Requirement already satisfied: pooch>=1.5 in /usr/local/lib/python3.11/dist-packages (from mne) (1.8.2)\n",
            "Requirement already satisfied: scipy>=1.9 in /usr/local/lib/python3.11/dist-packages (from mne) (1.15.2)\n",
            "Requirement already satisfied: tqdm in /usr/local/lib/python3.11/dist-packages (from mne) (4.67.1)\n",
            "Requirement already satisfied: contourpy>=1.0.1 in /usr/local/lib/python3.11/dist-packages (from matplotlib>=3.6->mne) (1.3.2)\n",
            "Requirement already satisfied: cycler>=0.10 in /usr/local/lib/python3.11/dist-packages (from matplotlib>=3.6->mne) (0.12.1)\n",
            "Requirement already satisfied: fonttools>=4.22.0 in /usr/local/lib/python3.11/dist-packages (from matplotlib>=3.6->mne) (4.57.0)\n",
            "Requirement already satisfied: kiwisolver>=1.3.1 in /usr/local/lib/python3.11/dist-packages (from matplotlib>=3.6->mne) (1.4.8)\n",
            "Requirement already satisfied: pillow>=8 in /usr/local/lib/python3.11/dist-packages (from matplotlib>=3.6->mne) (11.2.1)\n",
            "Requirement already satisfied: pyparsing>=2.3.1 in /usr/local/lib/python3.11/dist-packages (from matplotlib>=3.6->mne) (3.2.3)\n",
            "Requirement already satisfied: python-dateutil>=2.7 in /usr/local/lib/python3.11/dist-packages (from matplotlib>=3.6->mne) (2.9.0.post0)\n",
            "Requirement already satisfied: platformdirs>=2.5.0 in /usr/local/lib/python3.11/dist-packages (from pooch>=1.5->mne) (4.3.7)\n",
            "Requirement already satisfied: requests>=2.19.0 in /usr/local/lib/python3.11/dist-packages (from pooch>=1.5->mne) (2.32.3)\n",
            "Requirement already satisfied: MarkupSafe>=2.0 in /usr/local/lib/python3.11/dist-packages (from jinja2->mne) (3.0.2)\n",
            "Requirement already satisfied: six>=1.5 in /usr/local/lib/python3.11/dist-packages (from python-dateutil>=2.7->matplotlib>=3.6->mne) (1.17.0)\n",
            "Requirement already satisfied: charset-normalizer<4,>=2 in /usr/local/lib/python3.11/dist-packages (from requests>=2.19.0->pooch>=1.5->mne) (3.4.1)\n",
            "Requirement already satisfied: idna<4,>=2.5 in /usr/local/lib/python3.11/dist-packages (from requests>=2.19.0->pooch>=1.5->mne) (3.10)\n",
            "Requirement already satisfied: urllib3<3,>=1.21.1 in /usr/local/lib/python3.11/dist-packages (from requests>=2.19.0->pooch>=1.5->mne) (2.4.0)\n",
            "Requirement already satisfied: certifi>=2017.4.17 in /usr/local/lib/python3.11/dist-packages (from requests>=2.19.0->pooch>=1.5->mne) (2025.4.26)\n",
            "Downloading mne-1.9.0-py3-none-any.whl (7.4 MB)\n",
            "\u001b[2K   \u001b[90m━━━━━━━━━━━━━━━━━━━━━━━━━━━━━━━━━━━━━━━━\u001b[0m \u001b[32m7.4/7.4 MB\u001b[0m \u001b[31m63.6 MB/s\u001b[0m eta \u001b[36m0:00:00\u001b[0m\n",
            "\u001b[?25hInstalling collected packages: mne\n",
            "Successfully installed mne-1.9.0\n"
          ]
        }
      ]
    },
    {
      "cell_type": "markdown",
      "source": [
        "## Graph Filtering of EEG Signals: End-to-End Pipeline\n",
        "### 1. EEG Preprocessing\n",
        "First, we load the EEG data and apply standard preprocessing:\n",
        "Load Data: We assume the EEG is in EEGLAB .set format (BioSemi 128-channel system). We'll use MNE-Python to load the data into a Raw object.\n",
        "Bandpass Filter (0.5–40 Hz): Filter the continuous data to retain frequencies in the 0.5–40 Hz range, which covers the typical EEG bands (delta through low gamma) while removing DC drifts and high-frequency noise\n",
        "mne.discourse.group\n",
        ". MNE uses a zero-phase FIR filter by default (no phase distortion)\n",
        "mne.discourse.group\n",
        ".\n",
        "Average Reference: Re-reference the EEG to the common average. This means subtracting the mean across all 128 channels at each time point, so that signals are measured relative to the average brain potential\n",
        "mne.discourse.group\n",
        ". This avoids bias toward any single reference electrode.\n",
        "Artifact Removal (ICA): (Optional) Perform Independent Component Analysis to identify and remove artifact components (e.g. eye blinks, muscle activity). ICA is a common method for EEG artifact removal\n",
        "github.com\n",
        ". We fit an ICA model and exclude components corresponding to noise (which can be semi-automated or manual via component inspection)."
      ],
      "metadata": {
        "id": "sAzz2rJpc0yz"
      }
    },
    {
      "cell_type": "code",
      "source": [
        "import mne\n",
        "\n",
        "# --- Load EEG data from a Biosemi 128-channel .set file ---\n",
        "raw = mne.io.read_raw_eeglab('/content/s6_sub-30001_rs-hep_eeg.set', preload=True)  # Alzheimer's subject\n",
        "print(f\"Loaded data with {raw.info['nchan']} channels and {raw.n_times} time points at {raw.info['sfreq']} Hz.\")\n",
        "\n",
        "# --- Band-pass filter between 0.5 and 40 Hz ---\n",
        "raw.filter(l_freq=0.5, h_freq=40.0, fir_design='firwin')\n",
        "# MNE outputs filter design details, e.g., \"Setting up band-pass filter from 0.5 - 40 Hz\":contentReference[oaicite:4]{index=4}\n",
        "\n",
        "# --- Apply average reference across all EEG channels ---\n",
        "raw.set_eeg_reference('average')  # Now each channel is referenced to the average of all channels:contentReference[oaicite:5]{index=5}\n",
        "\n",
        "# --- (Optional) ICA for artifact removal ---\n",
        "ica = mne.preprocessing.ICA(n_components=20, random_state=42, max_iter='auto')\n",
        "ica.fit(raw)\n",
        "# Identify artifact ICs (e.g., correlate with EOG channel or using ADJUST/ICLabel if available)\n",
        "ica.exclude = []  # Indices of ICs identified as artifacts (e.g., blinks)\n",
        "raw = ica.apply(raw)  # Remove the selected artifact components from the data\n"
      ],
      "metadata": {
        "colab": {
          "base_uri": "https://localhost:8080/"
        },
        "id": "3QYvp0aBc0CQ",
        "outputId": "995f071d-63db-4bf4-e82c-fbe8e012dd1c"
      },
      "execution_count": 4,
      "outputs": [
        {
          "output_type": "stream",
          "name": "stdout",
          "text": [
            "Loaded data with 128 channels and 159971 time points at 512.0 Hz.\n",
            "Filtering raw data in 1 contiguous segment\n",
            "Setting up band-pass filter from 0.5 - 40 Hz\n",
            "\n",
            "FIR filter parameters\n",
            "---------------------\n",
            "Designing a one-pass, zero-phase, non-causal bandpass filter:\n",
            "- Windowed time-domain design (firwin) method\n",
            "- Hamming window with 0.0194 passband ripple and 53 dB stopband attenuation\n",
            "- Lower passband edge: 0.50\n",
            "- Lower transition bandwidth: 0.50 Hz (-6 dB cutoff frequency: 0.25 Hz)\n",
            "- Upper passband edge: 40.00 Hz\n",
            "- Upper transition bandwidth: 10.00 Hz (-6 dB cutoff frequency: 45.00 Hz)\n",
            "- Filter length: 3381 samples (6.604 s)\n",
            "\n"
          ]
        },
        {
          "output_type": "stream",
          "name": "stderr",
          "text": [
            "[Parallel(n_jobs=1)]: Done  17 tasks      | elapsed:    0.1s\n",
            "[Parallel(n_jobs=1)]: Done  71 tasks      | elapsed:    0.4s\n"
          ]
        },
        {
          "output_type": "stream",
          "name": "stdout",
          "text": [
            "EEG channel type selected for re-referencing\n",
            "Applying average reference.\n",
            "Applying a custom ('EEG',) reference.\n",
            "Fitting ICA to data using 128 channels (please be patient, this may take a while)\n",
            "Selecting by number: 20 components\n",
            "Fitting ICA took 10.0s.\n",
            "Applying ICA to Raw instance\n",
            "    Transforming to ICA space (20 components)\n",
            "    Zeroing out 0 ICA components\n",
            "    Projecting back using 128 PCA components\n"
          ]
        }
      ]
    },
    {
      "cell_type": "code",
      "source": [
        "import mne\n",
        "\n",
        "# Load the EEGLAB .set file (continuous data)\n",
        "raw = mne.io.read_raw_eeglab('/content/s6_sub-30001_rs-hep_eeg.set', preload=True)\n",
        "\n",
        "# Optionally, apply a notch filter for line noise if needed (e.g., 50 Hz),\n",
        "# but since data is low-passed at 40 Hz, this may be unnecessary.\n",
        "# raw.notch_filter(50, fir_design='firwin')\n",
        "\n",
        "# Segment the continuous raw into 2-second epochs (adjust duration as needed)\n",
        "epochs = mne.make_fixed_length_epochs(\n",
        "    raw, duration=2.0, overlap=0.0,  # 2s non-overlapping windows\n",
        "    preload=True, reject_by_annotation=True  # drop segments marked \"bad\" in raw\n",
        ")\n",
        "\n",
        "# Optionally, drop epochs with extreme amplitudes (e.g., >150 µV) to remove residual artifacts\n",
        "epochs = epochs.drop_bad(reject=dict(eeg=150e-6))\n",
        "print(f\"Remaining epochs: {len(epochs)}\")\n"
      ],
      "metadata": {
        "colab": {
          "base_uri": "https://localhost:8080/"
        },
        "id": "J9l4xFgYO70h",
        "outputId": "064ec1ce-3cd1-442e-d72f-ca5490a307bc"
      },
      "execution_count": 5,
      "outputs": [
        {
          "output_type": "stream",
          "name": "stdout",
          "text": [
            "Not setting metadata\n",
            "156 matching events found\n",
            "No baseline correction applied\n",
            "0 projection items activated\n",
            "Using data from preloaded Raw for 156 events and 1024 original time points ...\n",
            "0 bad epochs dropped\n",
            "    Rejecting  epoch based on EEG : ['B30']\n",
            "    Rejecting  epoch based on EEG : ['B30']\n",
            "    Rejecting  epoch based on EEG : ['B29']\n",
            "3 bad epochs dropped\n",
            "Remaining epochs: 153\n"
          ]
        }
      ]
    },
    {
      "cell_type": "code",
      "source": [
        "# Apply a surface Laplacian (current source density) transform to reduce volume conduction\n",
        "raw_csd = mne.preprocessing.compute_current_source_density(raw.copy())\n",
        "# If working with epochs, you could also do: epochs_csd = mne.preprocessing.compute_current_source_density(epochs)\n"
      ],
      "metadata": {
        "colab": {
          "base_uri": "https://localhost:8080/"
        },
        "id": "0yzJVmo5PRHX",
        "outputId": "75834bad-8e5b-429d-dd17-0c4949b3d6a0"
      },
      "execution_count": 6,
      "outputs": [
        {
          "output_type": "stream",
          "name": "stdout",
          "text": [
            "Fitted sphere radius:         87.5 mm\n",
            "Origin head coordinates:      0.0 -0.0 0.0 mm\n",
            "Origin device coordinates:    0.0 -0.0 0.0 mm\n"
          ]
        }
      ]
    },
    {
      "cell_type": "code",
      "source": [
        "import numpy as np\n",
        "\n",
        "# Get data from the cleaned epochs (after any CSD or other steps)\n",
        "data = epochs.get_data()  # shape: (n_epochs, n_channels, n_times)\n",
        "\n",
        "# Concatenate epochs back to a continuous sequence (or handle each epoch separately for connectivity)\n",
        "data_concat = np.hstack(data)  # shape: (n_channels, total_time)\n",
        "\n",
        "# Remove mean and scale to unit variance for each channel\n",
        "data_mean = data_concat.mean(axis=1, keepdims=True)\n",
        "data_std  = data_concat.std(axis=1, keepdims=True)\n",
        "data_concat = (data_concat - data_mean) / data_std\n",
        "\n",
        "# (If you prefer to compute connectivity on each epoch and average, you could normalize per epoch instead.)\n"
      ],
      "metadata": {
        "id": "5ZFKa1MpPvGH"
      },
      "execution_count": 7,
      "outputs": []
    },
    {
      "cell_type": "code",
      "source": [
        "# Compute Pearson correlation between channels\n",
        "corr_matrix = np.corrcoef(data_concat)  # shape: (128, 128)\n",
        "\n",
        "# Take absolute values of correlations\n",
        "adj_matrix = np.abs(corr_matrix)\n",
        "\n",
        "# Set self-connections to 0.0\n",
        "np.fill_diagonal(adj_matrix, 0.0)\n",
        "\n",
        "# (Optional) Impose a threshold to sparsify the graph, e.g., remove very weak edges\n",
        "# threshold = 0.1\n",
        "# adj_matrix[adj_matrix < threshold] = 0.0\n"
      ],
      "metadata": {
        "id": "NW69rcJkP0QL"
      },
      "execution_count": 8,
      "outputs": []
    },
    {
      "cell_type": "code",
      "source": [
        "# Degree of each node\n",
        "degrees = adj_matrix.sum(axis=1)\n",
        "D_inv_sqrt = np.diag(1.0 / np.sqrt(degrees + 1e-8))  # add tiny term to avoid division by zero if any isolated node\n",
        "\n",
        "# Symmetric normalized Laplacian\n",
        "I = np.eye(adj_matrix.shape[0])\n",
        "L_sym = I - D_inv_sqrt @ adj_matrix @ D_inv_sqrt\n"
      ],
      "metadata": {
        "id": "t5QnVr3wP37_"
      },
      "execution_count": 9,
      "outputs": []
    },
    {
      "cell_type": "code",
      "source": [
        "import numpy.linalg as LA\n",
        "\n",
        "# Eigen-decomposition of L_sym\n",
        "eigenvals, eigenvecs = LA.eigh(L_sym)  # eigenvals sorted in ascending order for symmetric matrices\n",
        "\n",
        "# Ensure sorting (just in case)\n",
        "idx = np.argsort(eigenvals)\n",
        "eigenvals = eigenvals[idx]\n",
        "eigenvecs = eigenvecs[:, idx]\n",
        "\n",
        "print(\"First 5 graph eigenvalues:\", eigenvals[:5])\n"
      ],
      "metadata": {
        "colab": {
          "base_uri": "https://localhost:8080/"
        },
        "id": "oIwEy3iORCIl",
        "outputId": "f0b1aa2b-5737-4b8b-b277-cf4549615b88"
      },
      "execution_count": 10,
      "outputs": [
        {
          "output_type": "stream",
          "name": "stdout",
          "text": [
            "First 5 graph eigenvalues: [2.20974191e-10 7.46476914e-01 7.60850297e-01 7.68408308e-01\n",
            " 7.95529637e-01]\n"
          ]
        }
      ]
    },
    {
      "cell_type": "code",
      "source": [
        "# Prepare the data matrix X of shape (n_channels, n_times)\n",
        "X = data_concat  # (128, total_time) from step 3\n",
        "\n",
        "# Graph Fourier Transform: project data onto eigenvectors\n",
        "X_gft = eigenvecs.T @ X  # shape: (128, total_time)\n",
        "\n",
        "# X_gft[i] is the i-th graph Fourier mode's time-series (i=0 is lowest graph frequency)\n"
      ],
      "metadata": {
        "id": "h4u37XnkRFpv"
      },
      "execution_count": 11,
      "outputs": []
    },
    {
      "cell_type": "code",
      "source": [
        "# --- Ideal graph-frequency band-pass filter via GFT ---\n",
        "# Define graph-frequency bands (indices) for low, mid, high, for example:\n",
        "low_band = range(0, 43)    # e.g., 0 <= eigenval < ~0.66 (first third of spectrum)\n",
        "mid_band = range(43, 85)   # mid frequencies\n",
        "high_band = range(85, 128) # high graph frequencies\n",
        "\n",
        "# Zero out unwanted bands to isolate, e.g., low-band energy signal\n",
        "X_gft_low = np.zeros_like(X_gft)\n",
        "X_gft_low[list(low_band), :] = X_gft[list(low_band), :]\n",
        "# Inverse GFT to reconstruct time-domain signal containing only low graph-freq components\n",
        "X_low = eigenvecs @ X_gft_low  # shape: (128, total_time)\n",
        "\n",
        "# --- Graph filter via Chebyshev polynomials (low-pass example) ---\n",
        "import torch  # using PyTorch for GPU acceleration\n",
        "# Move data and Laplacian to GPU\n",
        "\n",
        "\n",
        "X_torch = torch.tensor(X, device='cuda', dtype=torch.float32)\n",
        "L_torch = torch.tensor(L_sym, device='cuda', dtype=torch.float32)\n",
        "\n",
        "# Example: 1st-order low-pass filter h(L) = I - alpha*L  (alpha=0.5 here)\n",
        "alpha = 0.5\n",
        "filtered_X = (torch.eye(L_torch.shape[0], device='cuda') - alpha * L_torch) @ X_torch\n",
        "\n",
        "X_filtered = filtered_X.cpu().numpy()  # back to CPU numpy if needed\n"
      ],
      "metadata": {
        "id": "oEF_g96ARHtV"
      },
      "execution_count": 12,
      "outputs": []
    },
    {
      "cell_type": "code",
      "source": [
        "import numpy as np\n",
        "\n",
        "# Suppose eigenvals is the sorted eigenvalues array\n",
        "# Define band cutoffs (here we use indices for simplicity as before)\n",
        "low_band = range(0, 43)\n",
        "mid_band = range(43, 85)\n",
        "high_band = range(85, 128)\n",
        "\n",
        "# Calculate energy in each band for subject\n",
        "energy_low  = np.sum(np.abs(X_gft[list(low_band), :])**2)\n",
        "energy_mid  = np.sum(np.abs(X_gft[list(mid_band), :])**2)\n",
        "energy_high = np.sum(np.abs(X_gft[list(high_band), :])**2)\n",
        "total_energy = energy_low + energy_mid + energy_high\n",
        "\n",
        "# (Optional) normalize energies to fractions of total\n",
        "energy_low_frac  = energy_low / total_energy\n",
        "energy_mid_frac  = energy_mid / total_energy\n",
        "energy_high_frac = energy_high / total_energy\n",
        "\n",
        "print(\"Low/Med/High graph-frequency energy fractions:\",\n",
        "      energy_low_frac, energy_mid_frac, energy_high_frac)\n"
      ],
      "metadata": {
        "colab": {
          "base_uri": "https://localhost:8080/"
        },
        "id": "yProvENQWwUQ",
        "outputId": "1f0c39fd-03ff-4ba6-c952-5bfddd08ac54"
      },
      "execution_count": 13,
      "outputs": [
        {
          "output_type": "stream",
          "name": "stdout",
          "text": [
            "Low/Med/High graph-frequency energy fractions: 0.8354684860441544 0.04009588485581512 0.1244356291000306\n"
          ]
        }
      ]
    },
    {
      "cell_type": "markdown",
      "source": [
        "### Explanation:\n",
        "We loaded the raw EEG and filtered it to 0.5–40 Hz (removing slow drifts below 0.5 Hz and high-frequency noise above 40 Hz). The filter is applied in one step using MNE’s FIR filtering. Next, we set a common average reference, which involves computing the average signal across all electrodes at each time and subtracting it from each channel. This makes the data reference-free and often improves spatial analysis. We also show how to perform ICA to remove artifacts; in practice you would inspect components or use automated labeling (e.g., mne-icalabel) to choose which ICs to exclude (eye blink components, muscle noise, etc.). After these steps, the EEG data is clean and ready for graph analysis."
      ],
      "metadata": {
        "id": "2daEbEJ4dREv"
      }
    },
    {
      "cell_type": "markdown",
      "source": [
        "## 2. Graph Structure (GSO) Construction\n",
        "Next, we construct the Graph Shift Operator (GSO) for the EEG sensor network. Each EEG channel is a node in the graph, and we define edges based on functional connectivity between channels:\n",
        "Select an Epoch/Segment: If the data is epoched (e.g., trials), choose one epoch of interest. If it's continuous (e.g., resting state), select a time segment. We will use this segment to compute connectivity. For example, we'll take a 10-second segment from each dataset for graph construction (you can adjust as needed).\n",
        "Compute Pearson Correlation Matrix: We compute the Pearson correlation between the time series of every pair of channels over the selected epoch\n",
        "mdpi.com\n",
        ". This gives a $128 \\times 128$ connectivity matrix where entry $(i,j)$ represents how similar channel $i$ and $j$ are. Correlation is a common measure for functional connectivity graphs in EEG\n",
        "mdpi.com\n",
        " – high positive correlation indicates strongly synchronized activity between two brain regions, while negative values indicate anti-correlation\n",
        "mdpi.com\n",
        ".\n",
        "Adjacency Matrix: We take the absolute correlation values as weights for undirected edges. (This treats positive and negative correlations as connections in magnitude; alternatively, one could set negative correlations to 0 if focusing only on positive connectivity.) We set the diagonal to 0 (no self-connections). The result is a symmetric 128×128 adjacency matrix $A$.\n",
        "Graph Laplacian: From $A$, we compute the degree of each node ($d_i = \\sum_j A_{ij}$) and form the graph Laplacian. We will use the symmetric normalized Laplacian:\n",
        "𝐿\n",
        "=\n",
        "𝐼\n",
        "−\n",
        "𝐷\n",
        "−\n",
        "1\n",
        "/\n",
        "2\n",
        "𝐴\n",
        "𝐷\n",
        "−\n",
        "1\n",
        "/\n",
        "2\n",
        ",\n",
        "L=I−D\n",
        "−1/2\n",
        " AD\n",
        "−1/2\n",
        " , where $D$ is the diagonal degree matrix\n",
        "nature.com\n",
        ". This $L$ is symmetric and positive semi-definite, and is the matrix we will diagonalize for spectral analysis. (Alternatively, one could use the unnormalized Laplacian $L = D - A$\n",
        "nature.com\n",
        "; the normalized form is used here for stability and because its eigenvalues lie in $[0,2]$.)"
      ],
      "metadata": {
        "id": "KaCEyS4od84M"
      }
    },
    {
      "cell_type": "code",
      "execution_count": null,
      "metadata": {
        "id": "f_wl0OBUcnZf"
      },
      "outputs": [],
      "source": [
        "import numpy as np\n",
        "\n",
        "# --- Select one epoch or time segment for graph analysis ---\n",
        "# If data is epoched:\n",
        "# epochs = mne.Epochs(raw, events, event_id, tmin, tmax, baseline=None)\n",
        "# data = epochs[0].get_data()[0]  # shape (128, time_samples) for the first epoch\n",
        "# For continuous data, select a 10-second segment (adjust indices according to sfreq):\n",
        "sfreq = raw.info['sfreq']\n",
        "seg_start, seg_end = 0, int(10 * sfreq)  # first 10 seconds\n",
        "data = raw.get_data(start=seg_start, stop=seg_end)  # shape = (128, segment_length)\n",
        "\n",
        "# --- Compute Pearson correlation between all channel pairs ---\n",
        "corr_matrix = np.corrcoef(data)  # 128x128 matrix of Pearson correlations\n",
        "np.fill_diagonal(corr_matrix, 0.0)         # remove self-correlation (set diagonal=0)\n",
        "adjacency = np.abs(corr_matrix)            # use absolute correlation as edge weight for undirected graph\n",
        "# (Optionally, threshold the adjacency matrix if you want a sparse graph)\n",
        "\n",
        "# --- Construct the normalized graph Laplacian ---\n",
        "N = adjacency.shape[0]\n",
        "degree = np.sum(adjacency, axis=1)\n",
        "D_inv_sqrt = np.diag(1.0 / np.sqrt(degree + 1e-8))  # add a tiny value to avoid division by zero\n",
        "L = np.eye(N) - D_inv_sqrt @ adjacency @ D_inv_sqrt  # L = I - D^(-1/2) * A * D^(-1/2)\n",
        "\n",
        "print(\"Adjacency matrix and Laplacian constructed. Shape:\", L.shape)\n"
      ]
    },
    {
      "cell_type": "code",
      "source": [
        "print(\"Signal shape:\", X.shape)\n",
        "print(\"Signal variance per channel:\", np.var(X, axis=1))\n"
      ],
      "metadata": {
        "id": "8e_1YVOejQ2-"
      },
      "execution_count": null,
      "outputs": []
    },
    {
      "cell_type": "code",
      "source": [
        "print(\"Smallest 10 eigenvalues:\", eigvals[:10])\n"
      ],
      "metadata": {
        "id": "Uua6e7ozjUxW"
      },
      "execution_count": null,
      "outputs": []
    },
    {
      "cell_type": "markdown",
      "source": [
        "##Explanation:\n",
        "We use a time segment from the preprocessed data to define our graph. We chose a 10-second segment for illustration; in practice, you might use the entire resting-state recording or a specific trial epoch. We compute the Pearson correlation for all channel pairs\n",
        "mdpi.com\n",
        ". The resulting matrix (128×128) is our raw connectivity. We make it an undirected weighted graph by taking absolute values (so both positively and negatively correlated pairs are treated as connected, ignoring the sign). Other choices are possible (e.g., keeping the sign or thresholding weak connections), but using the absolute correlation gives a fully connected graph where stronger weights signify tighter coupling.\n",
        "\n",
        "From the adjacency $A$, we compute the normalized Laplacian $L = I - D^{-1/2} A D^{-1/2}$. This $L$ encapsulates the graph structure (it’s large on nodes that are weakly connected to others and small for strongly connected clusters). We'll use $L$ for spectral decomposition. The graph defined here is effectively a functional brain network for the selected EEG segment. (Research has shown that correlation-based EEG graphs can reflect differences in brain network organization, and have been used to study connectivity changes in Alzheimer's disease.)"
      ],
      "metadata": {
        "id": "FdQG-CrPeNYz"
      }
    },
    {
      "cell_type": "markdown",
      "source": [
        "## 3. Graph Spectral Decomposition\n",
        "Now we perform a spectral decomposition of the graph Laplacian. This gives us the graph Fourier basis, which are the eigenvectors of $L$:\n",
        "Eigen-decomposition: Compute eigenvalues $\\lambda_i$ and eigenvectors $u_i$ of $L$ such that $L , u_i = \\lambda_i , u_i$. Because $L$ is real symmetric, we obtain $N=128$ real eigenvalues and orthogonal eigenvectors. We will use NumPy's linear algebra (np.linalg.eigh) to get these.\n",
        "Sort by Graph Frequency (Total Variation): We sort the eigenpairs in ascending order of eigenvalue. For the normalized Laplacian, eigenvalues range from 0 (for a completely connected component) up to 2. A smaller eigenvalue indicates a smoother graph mode (lower \"graph frequency\"), whereas a larger eigenvalue corresponds to a high-variation mode\n",
        "pure.tudelft.nl\n",
        ". In other words, signals along eigenvectors with small $\\lambda$ vary slowly across the graph (they are similar on strongly connected nodes), while those with large $\\lambda$ oscillate more rapidly from node to node\n",
        "pure.tudelft.nl\n",
        ". We interpret the eigenvectors $u_i$ as graph Fourier modes, and $\\lambda_i$ as the associated graph frequencies.\n",
        "Total Variation (TV): The total variation of eigenvector $u_i$ on the graph can be measured by how much it changes across edges (one formal definition is $TV(u) = \\sum_{(j,k)\\in E} A_{jk} (u_j - u_k)^2$). For Laplacian eigenvectors, this is proportional to the eigenvalue. Thus, sorting by eigenvalue is effectively sorting by total variation.\n",
        "Visualization: We can visualize the eigenvalue spectrum to see how graph frequencies are distributed. Often, a few small eigenvalues near 0 indicate large-scale patterns common to many channels, while higher eigenvalues indicate fine-scale differences. Comparing spectra between subjects can reveal differences in network connectivity structure."
      ],
      "metadata": {
        "id": "4nsDr-5zebJs"
      }
    },
    {
      "cell_type": "code",
      "source": [
        "# --- Eigen-decomposition of the Laplacian ---\n",
        "eigvals, eigvecs = np.linalg.eigh(L)  # solve L u = lambda u\n",
        "# Sort eigenvalues and eigenvectors in ascending order (already ascending from eigh, but we'll sort to be sure)\n",
        "idx = np.argsort(eigvals)\n",
        "eigvals = eigvals[idx]\n",
        "eigvecs = eigvecs[:, idx]\n",
        "\n",
        "print(\"Eigenvalues of L (first 10):\", eigvals[:10])\n",
        "# Ensure the first eigenvector corresponds to the smallest eigenvalue (smoothest mode)\n",
        "print(\"Smallest eigenvalue:\", eigvals[0], \"; Largest eigenvalue:\", eigvals[-1])\n",
        "\n",
        "# --- Compute graph mode \"total variation\" (which for Laplacian eigenvectors equals the eigenvalue) ---\n",
        "total_variation = eigvals.copy()  # (for normalized Laplacian, eigenvalue = variation magnitude)\n",
        "\n",
        "# --- Visualize variability vs eigenvalue index ---\n",
        "import matplotlib.pyplot as plt\n",
        "plt.figure(figsize=(6,4))\n",
        "plt.plot(total_variation, marker='o')\n",
        "plt.title(\"Laplacian Spectrum of EEG Graph\")\n",
        "plt.xlabel(\"Graph mode index (sorted by smoothness)\")\n",
        "plt.ylabel(\"Eigenvalue (Graph Frequency)\")\n",
        "plt.show()\n"
      ],
      "metadata": {
        "id": "BRlnKlJnehBd"
      },
      "execution_count": null,
      "outputs": []
    },
    {
      "cell_type": "markdown",
      "source": [
        "Explanation: We diagonalized the Laplacian matrix to obtain the graph's spectral components. The eigenvectors (eigvecs) form the graph Fourier transform basis\n",
        "nature.com\n",
        ", meaning we can represent EEG signals on this graph as a combination of these modes. Notably, if the graph has any connected components or nearly-connected clusters, we expect very small eigenvalues corresponding to modes that are almost constant on those clusters. The smallest eigenvalue $\\lambda_0$ is often 0 (or close to 0), with $u_0$ roughly a constant vector (all nodes in phase), whereas the largest eigenvalue $\\lambda_{max}$ corresponds to an alternating pattern. Our code also computes the total variation for each mode, which in this case is simply the eigenvalue (higher eigenvalue = higher variation). In the example plot (spectrum of the EEG graph), you would typically see an increasing trend. For a healthy brain network, the spectrum might spread differently compared to an AD brain. (For instance, an AD functional network might show a dominance of low-frequency modes or a different distribution due to altered connectivity patterns.)"
      ],
      "metadata": {
        "id": "XjckBwfrerZ0"
      }
    },
    {
      "cell_type": "markdown",
      "source": [
        "## 4. Graph Filtering in the Frequency Domain\n",
        "With the graph Fourier basis in hand, we can now filter the EEG signals in the graph-frequency domain. Graph filtering is analogous to classical filtering of time signals, but instead of temporal frequencies, we modulate graph frequencies (Laplacian eigenmodes):\n",
        "Graph Fourier Transform (GFT): For a multichannel EEG signal $x(t) \\in \\mathbb{R}^{128}$ (the voltage at all channels at time $t$), its GFT is $\\chi = U^T x$, where $U$ is the matrix of eigenvectors $[u_0, u_1, ..., u_{127}]$\n",
        "nature.com\n",
        ". $\\chi$ represents the signal in the graph spectral domain (i.e., the coefficients along each graph mode).\n",
        "Frequency-Domain Filtering: To apply a filter, we choose a frequency response $H(\\lambda)$ defined on the graph eigenvalues. For example, a graph low-pass filter could set $H(\\lambda)=1$ for low $\\lambda$ (smooth modes) and $H(\\lambda)=0$ for high $\\lambda$ (rapid-varying modes), thereby preserving global synchronized activity and removing local noise. A high-pass filter would do the opposite. A generic FIR graph filter can be applied by multiplying each Fourier coefficient by the desired gain: $\\chi_{\\text{out}}[\\lambda_i] = H(\\lambda_i) \\chi[\\lambda_i]$\n",
        "nature.com\n",
        ". In the vertex domain, the filtered signal is $x_{\\text{out}} = U , H , U^T x$ (where $H$ acts as a diagonal matrix of gains in the eigenbasis). This is analogous to filtering via the convolution theorem (convolution in the graph domain corresponds to multiplication in the graph frequency domain)\n",
        "nature.com\n",
        ".\n",
        "Chebyshev Polynomial Filters: Instead of explicitly computing $U$ and $U^T$, one can design polynomial filters $h(L)$ that approximate $H(\\lambda)$. Chebyshev polynomials provide an efficient basis for this\n",
        "pure.tudelft.nl\n",
        ". A filter is expressed as $h(L) = \\sum_{k=0}^K c_k T_k(\\tilde{L})$, where $T_k$ is the Chebyshev polynomial of order $k$ evaluated on the scaled Laplacian $\\tilde{L} = \\frac{2L}{\\lambda_{\\max}} - I$ (which has eigenvalues in $[-1,1]$)\n",
        "pure.tudelft.nl\n",
        ". The coefficients $c_k$ are chosen to approximate the desired frequency response. The advantage is that $h(L)x$ can be computed via the recurrence $T_0(x)=1$, $T_1(x)=x$, $T_{k}(x) = 2x,T_{k-1}(x) - T_{k-2}(x)$ without needing the eigen-decomposition\n",
        "pure.tudelft.nl\n",
        ". This is useful for scalability and GPU implementation, as it avoids the $O(N^3)$ eigen-decomposition and uses only matrix-vector multiplications.\n",
        "Implementation: We will demonstrate both approaches. First, we apply an ideal low-pass and ideal high-pass filter by directly using the eigenvectors (FIR in frequency domain). Then we implement a Chebyshev polynomial filter to achieve a similar low-pass effect. The Chebyshev example will use a 2nd-order polynomial for simplicity, but the framework can be extended to higher orders or different responses."
      ],
      "metadata": {
        "id": "miW9c_gQetWc"
      }
    },
    {
      "cell_type": "code",
      "source": [
        "# --- Prepare the signal matrix X (channels × time) for filtering ---\n",
        "# We'll use the same data segment as before (shape: 128 × T)\n",
        "X = data.copy()  # shape (N, T)\n",
        "\n",
        "# Graph Fourier transform of the signals\n",
        "X_gft = eigvecs.T @ X  # shape: (128, T), coefficients in graph spectral domain\n",
        "\n",
        "# --- Design an example frequency response ---\n",
        "# Low-pass: ones for first M modes (smooth), zero for rest\n",
        "M = 20  # keep 20 lowest-frequency modes\n",
        "H_low = np.concatenate([np.ones(M), np.zeros(N - M)])\n",
        "# High-pass: zero for first M modes, one for rest\n",
        "H_high = np.concatenate([np.zeros(M), np.ones(N - M)])\n",
        "\n",
        "# Apply FIR graph filters in frequency domain by modulating GFT coefficients\n",
        "X_gft_low = (H_low[:, None] * X_gft)   # shape (128, T)\n",
        "X_gft_high = (H_high[:, None] * X_gft) # shape (128, T)\n",
        "\n",
        "# Inverse Graph Fourier Transform to get filtered signals back in channel space\n",
        "X_lowpass = eigvecs @ X_gft_low    # low-pass filtered signals (N × T)\n",
        "X_highpass = eigvecs @ X_gft_high  # high-pass filtered signals (N × T)\n",
        "\n",
        "# --- Implement Chebyshev filter (polynomial approximation) ---\n",
        "# We will design a 2nd-order Chebyshev low-pass filter approximating H_low.\n",
        "# Coefficients c0, c1, c2 for h(λ) ≈ (1 - λ/λ_max)^2 (a smooth low-pass roll-off).\n",
        "c0, c1, c2 = 0.375, -0.5, 0.125  # derived for normalized Laplacian (λ_max scaled to 2)\n",
        "lambda_max = eigvals[-1]\n",
        "# Scale Laplacian to [-1,1] for Chebyshev polynomials\n",
        "L_tilde = (2.0 / lambda_max) * L - np.eye(N)\n",
        "# Chebyshev recurrence: T0(X) = X, T1(X) = L_tilde @ X\n",
        "T0_X = X.copy()\n",
        "T1_X = L_tilde @ X\n",
        "# Compute output via Chebyshev polynomial: c0*T0 + c1*T1 + c2*T2, where T2 = 2*L_tilde*T1 - T0\n",
        "T2_X = 2.0 * (L_tilde @ T1_X) - T0_X\n",
        "X_cheb_low = c0 * T0_X + c1 * T1_X + c2 * T2_X  # result of Chebyshev filter\n",
        "\n",
        "# --- (Optional) Verify Chebyshev result against ideal low-pass (they won't be identical but should be similar in preserving low modes) ---\n",
        "# Compute energy in retained modes for both:\n",
        "orig_energy_low_modes = np.sum(X_gft[:M]**2)         # energy in lowest M modes (original signal)\n",
        "filt_energy_low_modes = np.sum((eigvecs.T @ X_cheb_low)[:M]**2)  # energy in lowest M modes (Cheb filtered)\n",
        "print(\"Energy in lowest 20 modes: original {:.2f}, after Chebyshev filter {:.2f}\".format(orig_energy_low_modes, filt_energy_low_modes))\n"
      ],
      "metadata": {
        "id": "cIWSGum_eMKc"
      },
      "execution_count": null,
      "outputs": []
    },
    {
      "cell_type": "code",
      "source": [
        "energy_by_mode = np.sum(X_gft**2, axis=1)\n",
        "plt.plot(energy_by_mode)\n",
        "plt.title(\"Energy in GFT Coefficients by Graph Mode\")\n",
        "plt.xlabel(\"Mode Index\")\n",
        "plt.ylabel(\"Energy\")\n",
        "plt.show()\n"
      ],
      "metadata": {
        "id": "wJby0Zlyjawd"
      },
      "execution_count": null,
      "outputs": []
    },
    {
      "cell_type": "code",
      "source": [
        "print(\"U^T U (should be identity):\")\n",
        "print(np.round(eigvecs.T @ eigvecs, decimals=2))\n"
      ],
      "metadata": {
        "id": "LMOMK44sjdfs"
      },
      "execution_count": null,
      "outputs": []
    },
    {
      "cell_type": "code",
      "source": [
        "import matplotlib.pyplot as plt\n",
        "plt.plot(np.sum(X_gft**2, axis=1))\n",
        "plt.title(\"Power across graph modes (original signal)\")\n",
        "plt.xlabel(\"Graph Mode Index\")\n",
        "plt.ylabel(\"Power\")\n",
        "plt.show()\n"
      ],
      "metadata": {
        "id": "Tbm2d7_dio3m"
      },
      "execution_count": null,
      "outputs": []
    },
    {
      "cell_type": "code",
      "source": [
        "# 1. Signal variance (channel-wise)\n",
        "print(\"Signal variances (first 10 channels):\", np.var(X, axis=1)[:10])\n",
        "\n",
        "# 2. Energy in first 20 graph modes\n",
        "energy_by_mode = np.sum(X_gft**2, axis=1)\n",
        "print(\"Energy in first 20 modes:\", energy_by_mode[:20])\n",
        "\n",
        "# 3. Sum it:\n",
        "print(\"Sum of energy in first 20 modes:\", np.sum(energy_by_mode[:20]))\n",
        "print(\"Total energy in all modes:\", np.sum(energy_by_mode))\n"
      ],
      "metadata": {
        "id": "P6za6FM1jsfc"
      },
      "execution_count": null,
      "outputs": []
    },
    {
      "cell_type": "code",
      "source": [
        "# --- Prepare the signal matrix X (channels × time) for filtering ---\n",
        "# We'll use the same data segment as before (shape: 128 × T)\n",
        "X = data.copy()  # shape (N, T)\n",
        "\n",
        "# Graph Fourier transform of the signals\n",
        "X_gft = eigvecs.T @ X  # shape: (128, T), coefficients in graph spectral domain\n",
        "\n",
        "# --- Design an example frequency response ---\n",
        "# Low-pass: ones for first M modes (smooth), zero for rest\n",
        "M = 20  # keep 20 lowest-frequency modes\n",
        "H_low = np.concatenate([np.ones(M), np.zeros(N - M)])\n",
        "# High-pass: zero for first M modes, one for rest\n",
        "H_high = np.concatenate([np.zeros(M), np.ones(N - M)])\n",
        "\n",
        "# Apply FIR graph filters in frequency domain by modulating GFT coefficients\n",
        "X_gft_low = (H_low[:, None] * X_gft)   # shape (128, T)\n",
        "X_gft_high = (H_high[:, None] * X_gft) # shape (128, T)\n",
        "\n",
        "# Inverse Graph Fourier Transform to get filtered signals back in channel space\n",
        "X_lowpass = eigvecs @ X_gft_low    # low-pass filtered signals (N × T)\n",
        "X_highpass = eigvecs @ X_gft_high  # high-pass filtered signals (N × T)\n",
        "\n",
        "# --- Implement Chebyshev filter (polynomial approximation) ---\n",
        "# We will design a 2nd-order Chebyshev low-pass filter approximating H_low.\n",
        "# Coefficients c0, c1, c2 for h(λ) ≈ (1 - λ/λ_max)^2 (a smooth low-pass roll-off).\n",
        "c0, c1, c2 = 1.0, -0.5, 0.25  # Example better-suited low-pass Chebyshev coefficients\n",
        "  # derived for normalized Laplacian (λ_max scaled to 2)\n",
        "lambda_max = eigvals[-1]\n",
        "# Scale Laplacian to [-1,1] for Chebyshev polynomials\n",
        "L_tilde = (2.0 / lambda_max) * L - np.eye(N)\n",
        "# Chebyshev recurrence: T0(X) = X, T1(X) = L_tilde @ X\n",
        "T0_X = X.copy()\n",
        "T1_X = L_tilde @ X\n",
        "# Compute output via Chebyshev polynomial: c0*T0 + c1*T1 + c2*T2, where T2 = 2*L_tilde*T1 - T0\n",
        "T2_X = 2.0 * (L_tilde @ T1_X) - T0_X\n",
        "X_cheb_low = c0 * T0_X + c1 * T1_X + c2 * T2_X  # result of Chebyshev filter\n",
        "\n",
        "# --- (Optional) Verify Chebyshev result against ideal low-pass (they won't be identical but should be similar in preserving low modes) ---\n",
        "# Compute energy in retained modes for both:\n",
        "orig_energy_low_modes = np.sum(X_gft[:M]**2)         # energy in lowest M modes (original signal)\n",
        "filt_energy_low_modes = np.sum((eigvecs.T @ X_cheb_low)[:M]**2)  # energy in lowest M modes (Cheb filtered)\n",
        "print(\"Energy in lowest 20 modes: original {:.2f}, after Chebyshev filter {:.2f}\".format(orig_energy_low_modes, filt_energy_low_modes))\n"
      ],
      "metadata": {
        "id": "Xd6Z_Uz-jBsv"
      },
      "execution_count": null,
      "outputs": []
    },
    {
      "cell_type": "code",
      "source": [
        "# --- Visualize original vs filtered signals for a sample channel ---\n",
        "chan_idx = 0  # example channel index to visualize\n",
        "times = np.arange(X.shape[1]) / sfreq  # time axis in seconds for the segment\n",
        "\n",
        "plt.figure(figsize=(8,4))\n",
        "plt.plot(times, X[chan_idx, :], label='Original', linewidth=1)\n",
        "plt.plot(times, X_lowpass[chan_idx, :], label='Low-pass (smooth)', linewidth=1.2)\n",
        "plt.plot(times, X_highpass[chan_idx, :], label='High-pass (diff)', linewidth=1.2)\n",
        "plt.xlabel(\"Time (s)\")\n",
        "plt.ylabel(\"EEG amplitude (µV)\")\n",
        "plt.title(f\"Channel {chan_idx+1}: Original vs Graph-Filtered\")\n",
        "plt.legend(loc='upper right')\n",
        "plt.show()\n"
      ],
      "metadata": {
        "id": "HtcqoBale3XQ"
      },
      "execution_count": null,
      "outputs": []
    },
    {
      "cell_type": "code",
      "source": [
        "def preprocess_and_get_segment(file_path, seg_duration=10.0):\n",
        "    \"\"\"Load EEG, preprocess, and return a segment of specified duration (in seconds).\"\"\"\n",
        "    raw = mne.io.read_raw_eeglab(file_path, preload=True)\n",
        "    raw.filter(0.5, 40.0, fir_design='firwin')\n",
        "    raw.set_eeg_reference('average')\n",
        "    # (Omit ICA for brevity or include if needed)\n",
        "    sfreq = raw.info['sfreq']\n",
        "    data = raw.get_data(start=0, stop=int(seg_duration * sfreq))\n",
        "    return data, sfreq\n",
        "\n",
        "def construct_graph_Laplacian(data):\n",
        "    \"\"\"Compute adjacency (correlation) and return normalized Laplacian and its eigen-decomp.\"\"\"\n",
        "    N, T = data.shape\n",
        "    corr = np.corrcoef(data)\n",
        "    np.fill_diagonal(corr, 0)\n",
        "    A = np.abs(corr)\n",
        "    degree = np.sum(A, axis=1)\n",
        "    L = np.eye(N) - np.diag(1/np.sqrt(degree + 1e-8)) @ A @ np.diag(1/np.sqrt(degree + 1e-8))\n",
        "    eigvals, eigvecs = np.linalg.eigh(L)\n",
        "    idx = np.argsort(eigvals)\n",
        "    return eigvals[idx], eigvecs[:, idx]\n",
        "\n",
        "# Process control and AD data\n",
        "data_control, sfreq = preprocess_and_get_segment('/content/s6_sub-10001_rs_eeg.set', seg_duration=10.0)\n",
        "eigvals_c, eigvecs_c = construct_graph_Laplacian(data_control)\n",
        "data_ad, sfreq = preprocess_and_get_segment('/content/s6_sub-30001_rs-hep_eeg.set', seg_duration=10.0)\n",
        "eigvals_a, eigvecs_a = construct_graph_Laplacian(data_ad)\n",
        "\n",
        "# Compute graph Fourier coefficients energy distribution for each\n",
        "Xc = data_control  # control signals (N x T)\n",
        "Xa = data_ad       # AD signals (N x T)\n",
        "coeffs_c = eigvecs_c.T @ Xc\n",
        "coeffs_a = eigvecs_a.T @ Xa\n",
        "power_modes_c = np.mean(coeffs_c**2, axis=1)  # average power in each graph mode\n",
        "power_modes_a = np.mean(coeffs_a**2, axis=1)\n",
        "\n",
        "# Normalize power distributions for comparison\n",
        "power_modes_c /= power_modes_c.sum()\n",
        "power_modes_a /= power_modes_a.sum()\n",
        "\n",
        "# Compare band-wise energies (low 1/3, mid 1/3, high 1/3 of modes)\n",
        "N = len(eigvals_c)\n",
        "low_band = slice(0, N//3)\n",
        "mid_band = slice(N//3, 2*N//3)\n",
        "high_band = slice(2*N//3, N)\n",
        "band_energy_c = [power_modes_c[low_band].sum(), power_modes_c[mid_band].sum(), power_modes_c[high_band].sum()]\n",
        "band_energy_a = [power_modes_a[low_band].sum(), power_modes_a[mid_band].sum(), power_modes_a[high_band].sum()]\n",
        "print(\"Control band energy (low, mid, high):\", band_energy_c)\n",
        "print(\"AD band energy (low, mid, high):\", band_energy_a)\n"
      ],
      "metadata": {
        "id": "7CTcso-rfDVv"
      },
      "execution_count": null,
      "outputs": []
    },
    {
      "cell_type": "code",
      "source": [
        "# Plot eigenvalue spectra\n",
        "plt.figure(figsize=(6,4))\n",
        "plt.plot(np.sort(eigvals_c), label='Control')\n",
        "plt.plot(np.sort(eigvals_a), label='Alzheimer\\'s')\n",
        "plt.xlabel(\"Graph mode index (sorted)\")\n",
        "plt.ylabel(\"Eigenvalue (Total Variation)\")\n",
        "plt.title(\"Graph Laplacian Spectrum: Control vs AD\")\n",
        "plt.legend()\n",
        "plt.show()\n",
        "\n",
        "# Plot normalized power distribution across modes\n",
        "plt.figure(figsize=(6,4))\n",
        "plt.plot(power_modes_c, label='Control')\n",
        "plt.plot(power_modes_a, label='Alzheimer\\'s')\n",
        "plt.xlabel(\"Graph mode index (sorted by smoothness)\")\n",
        "plt.ylabel(\"Normalized signal power\")\n",
        "plt.title(\"EEG Power Distribution in Graph Fourier Domain\")\n",
        "plt.legend()\n",
        "plt.show()\n",
        "\n",
        "# Bar chart for band-wise energy comparison\n",
        "bands = ['Low-var modes', 'Mid-var modes', 'High-var modes']\n",
        "x = np.arange(len(bands))\n",
        "plt.figure(figsize=(5,4))\n",
        "plt.bar(x - 0.15, band_energy_c, width=0.3, label='Control')\n",
        "plt.bar(x + 0.15, band_energy_a, width=0.3, label='Alzheimer\\'s')\n",
        "plt.xticks(x, bands)\n",
        "plt.ylabel(\"Fraction of total power\")\n",
        "plt.title(\"Graph Band Energy Comparison\")\n",
        "plt.legend()\n",
        "plt.show()\n"
      ],
      "metadata": {
        "id": "P761PWXxfFYH"
      },
      "execution_count": null,
      "outputs": []
    },
    {
      "cell_type": "code",
      "source": [
        "# Compute some quantitative metrics of variability\n",
        "# For example: sum of smallest k eigenvalues (indicator of how \"connected\" or synchronised the network is)\n",
        "k = 5\n",
        "print(f\"Sum of {k} smallest eigenvalues - Control: {eigvals_c[:k].sum():.4f},  AD: {eigvals_a[:k].sum():.4f}\")\n",
        "# Or the spectral gap (difference between largest and smallest)\n",
        "print(f\"Spectral range - Control: {eigvals_c.max()-eigvals_c.min():.4f}, AD: {eigvals_a.max()-eigvals_a.min():.4f}\")\n"
      ],
      "metadata": {
        "id": "GMFYEzxvhVeV"
      },
      "execution_count": null,
      "outputs": []
    }
  ]
}